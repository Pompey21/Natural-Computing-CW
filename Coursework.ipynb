{
 "cells": [
  {
   "cell_type": "markdown",
   "id": "70241406",
   "metadata": {},
   "source": [
    "# Particle Swarm Optimisation"
   ]
  },
  {
   "cell_type": "markdown",
   "id": "3cdf53b1",
   "metadata": {},
   "source": [
    "## -> Sphere Function"
   ]
  },
  {
   "cell_type": "code",
   "execution_count": 11,
   "id": "10a42fd0",
   "metadata": {},
   "outputs": [],
   "source": [
    "import numpy as np\n",
    "import itertools"
   ]
  },
  {
   "cell_type": "markdown",
   "id": "f4413ede",
   "metadata": {},
   "source": [
    "The following will be the goal (\"fitness\") function. Here it is to be minimised."
   ]
  },
  {
   "cell_type": "code",
   "execution_count": 16,
   "id": "391f2edb",
   "metadata": {},
   "outputs": [],
   "source": [
    "def sphere_function(pos,dim):\n",
    "    big_sum = 0\n",
    "    for i in range(dim):\n",
    "        big_sum = big_sum + pos[i]**2\n",
    "    return big_sum"
   ]
  },
  {
   "cell_type": "code",
   "execution_count": 17,
   "id": "20250f67",
   "metadata": {},
   "outputs": [],
   "source": [
    "class Particle: # all the material that is relavant at the level of the individual particles\n",
    "    \n",
    "    def __init__(self, dim, minx, maxx):\n",
    "        self.position = np.random.uniform(low=minx, high=maxx, size=dim)\n",
    "        self.velocity = np.random.uniform(low=-0.1, high=0.1, size=dim)\n",
    "        self.best_particle_pos = self.position\n",
    "        self.dim = dim\n",
    "\n",
    "        self.fitness = sphere_function(self.position,dim)\n",
    "        self.best_particle_fitness = self.fitness   # we couldd start with very large number here, \n",
    "                                                    #but the actual value is better in case we are lucky \n",
    "                \n",
    "    def setPos(self, pos):\n",
    "        self.position = pos\n",
    "        self.fitness = sphere_function(self.position,self.dim)\n",
    "        if self.fitness<self.best_particle_fitness:     # to update the personal best both \n",
    "                                                        # position (for velocity update) and\n",
    "                                                        # fitness (the new standard) are needed\n",
    "                                                        # global best is update on swarm leven\n",
    "            self.best_particle_fitness = self.fitness\n",
    "            self.best_particle_pos = pos\n",
    "\n",
    "    def updateVel(self, inertia, a1, a2, best_self_pos, best_swarm_pos):\n",
    "                # Here we use the canonical version\n",
    "                # V <- inertia*V + a1r1 (peronal_best - current_pos) + a2r2 (global_best - current_pos)\n",
    "        cur_vel = self.velocity\n",
    "        r1 = np.random.uniform(low=0, high=1, size = self.dim)\n",
    "        r2 = np.random.uniform(low=0, high=1, size = self.dim)\n",
    "        a1r1 = np.multiply(a1, r1)\n",
    "        a2r2 = np.multiply(a2, r2)\n",
    "        best_self_dif = np.subtract(best_self_pos, self.position)\n",
    "        best_swarm_dif = np.subtract(best_swarm_pos, self.position)\n",
    "                    # the next line is the main equation, namely the velocity update, \n",
    "                    # the velocities are added to the positions at swarm level \n",
    "        return inertia*cur_vel + np.multiply(a1r1, best_self_dif) + np.multiply(a2r2, best_swarm_dif)\n"
   ]
  },
  {
   "cell_type": "code",
   "execution_count": 18,
   "id": "8156a4d4",
   "metadata": {},
   "outputs": [],
   "source": [
    "class PSO: # all the material that is relavant at swarm leveel\n",
    "\n",
    "    def __init__(self, w, a1, a2, dim, population_size, time_steps, search_range):\n",
    "\n",
    "        # Here we use values that are (somewhat) known to be good\n",
    "        # There are no \"best\" parameters (No Free Lunch), so try using different ones\n",
    "        # There are several papers online which discuss various different tunings of a1 and a2\n",
    "        # for different types of problems\n",
    "        self.w = w # Inertia\n",
    "        self.a1 = a2 # Attraction to personal best\n",
    "        self.a2 = a2 # Attraction to global best\n",
    "        self.dim = dim\n",
    "\n",
    "        self.swarm = [Particle(dim,-search_range,search_range) for i in range(population_size)]\n",
    "        self.time_steps = time_steps\n",
    "        print('init')\n",
    "\n",
    "        # Initialising global best, you can wait until the end of the first time step\n",
    "        # but creating a random initial best and fitness which is very high will mean you\n",
    "        # do not have to write an if statement for the one off case\n",
    "        self.best_swarm_pos = np.random.uniform(low=-500, high=500, size=dim)\n",
    "        self.best_swarm_fitness = 1e100\n",
    "\n",
    "    def run(self):\n",
    "        for t in range(self.time_steps):\n",
    "            for p in range(len(self.swarm)):\n",
    "                particle = self.swarm[p]\n",
    "\n",
    "                new_position = particle.position + particle.updateVel(self.w, self.a1, self.a2, particle.best_particle_pos, self.best_swarm_pos)\n",
    "                                \n",
    "                if new_position@new_position > 1.0e+18: # The search will be terminated if the distance \n",
    "                                                        # of any particle from center is too large\n",
    "                    print('Time:', t,'Best Pos:',self.best_swarm_pos,'Best Fit:',self.best_swarm_fitness)\n",
    "                    raise SystemExit('Most likely divergent: Decrease parameter values')\n",
    " \n",
    "                self.swarm[p].setPos(new_position)\n",
    "\n",
    "                new_fitness = sphere_function(new_position,self.dim)\n",
    "\n",
    "                if new_fitness < self.best_swarm_fitness:   # to update the global best both \n",
    "                                                            # position (for velocity update) and\n",
    "                                                            # fitness (the new group norm) are needed\n",
    "                    self.best_swarm_fitness = new_fitness\n",
    "                    self.best_swarm_pos = new_position\n",
    "\n",
    "            if t % 100 == 0: #we print only two components even it search space is high-dimensional\n",
    "                print(\"Time: %6d,  Best Fitness: %14.6f,  Best Pos: %9.4f,%9.4f\" % (t,self.best_swarm_fitness,self.best_swarm_pos[0],self.best_swarm_pos[1]), end =\" \")\n",
    "                if self.dim>2: \n",
    "                    print('...')\n",
    "                else:\n",
    "                    print('')"
   ]
  },
  {
   "cell_type": "code",
   "execution_count": 19,
   "id": "e07fb88a",
   "metadata": {},
   "outputs": [
    {
     "name": "stdout",
     "output_type": "stream",
     "text": [
      "init\n",
      "Time:      0,  Best Fitness:    3337.989405,  Best Pos:  -12.2649,  -2.3836 ...\n",
      "Time:    100,  Best Fitness:       0.000852,  Best Pos:   -0.0080,   0.0118 ...\n",
      "Time:    200,  Best Fitness:       0.000555,  Best Pos:   -0.0116,  -0.0056 ...\n",
      "Time:    300,  Best Fitness:       0.000555,  Best Pos:   -0.0116,  -0.0056 ...\n",
      "Time:    400,  Best Fitness:       0.000555,  Best Pos:   -0.0116,  -0.0056 ...\n",
      "Time:    500,  Best Fitness:       0.000348,  Best Pos:   -0.0037,   0.0010 ...\n",
      "Time:    600,  Best Fitness:       0.000348,  Best Pos:   -0.0037,   0.0010 ...\n",
      "Time:    700,  Best Fitness:       0.000348,  Best Pos:   -0.0037,   0.0010 ...\n",
      "Time:    800,  Best Fitness:       0.000348,  Best Pos:   -0.0037,   0.0010 ...\n",
      "Time:    900,  Best Fitness:       0.000348,  Best Pos:   -0.0037,   0.0010 ...\n",
      "Time:   1000,  Best Fitness:       0.000340,  Best Pos:   -0.0159,  -0.0004 ...\n"
     ]
    }
   ],
   "source": [
    "variable = PSO(dim=6, w=0.7, a1=2.02, a2=2.02, population_size=60, time_steps=1001, search_range=100).run()"
   ]
  },
  {
   "cell_type": "code",
   "execution_count": 22,
   "id": "dceb39f0",
   "metadata": {},
   "outputs": [
    {
     "data": {
      "text/plain": [
       "[(0, 0, 0),\n",
       " (0, 0, 1),\n",
       " (0, 1, 0),\n",
       " (0, 1, 1),\n",
       " (1, 0, 0),\n",
       " (1, 0, 1),\n",
       " (1, 1, 0),\n",
       " (1, 1, 1)]"
      ]
     },
     "execution_count": 22,
     "metadata": {},
     "output_type": "execute_result"
    }
   ],
   "source": [
    "import itertools\n",
    "lst = list(itertools.product([0, 1], repeat=3))\n",
    "lst"
   ]
  },
  {
   "cell_type": "code",
   "execution_count": 41,
   "id": "db007e11",
   "metadata": {},
   "outputs": [
    {
     "data": {
      "text/plain": [
       "[[-0.7, -0.52, 0.52],\n",
       " [-0.7, -0.52, 0.52],\n",
       " [-0.7, 0.52, 0.52],\n",
       " [-0.7, 0.52, 0.52],\n",
       " [0.7, -0.52, 0.52],\n",
       " [0.7, -0.52, 0.52],\n",
       " [0.7, 0.52, 0.52],\n",
       " [0.7, 0.52, 0.52]]"
      ]
     },
     "execution_count": 41,
     "metadata": {},
     "output_type": "execute_result"
    }
   ],
   "source": [
    "def change_singns(params,signs):\n",
    "    changed_params = []\n",
    "    for i in range(len(params)-1):\n",
    "        if signs[i] == 1:\n",
    "            changed_params.append(params[i])\n",
    "        else:\n",
    "            changed_params.append(-params[i])\n",
    "    changed_params.append(params[2])\n",
    "    return changed_params\n",
    "\n",
    "# defining a list of tuples (w, alpha1, alpha2) \n",
    "params = (0.7,0.52,0.52)\n",
    "lst_signs = list(itertools.product([0, 1], repeat=3))\n",
    "\n",
    "params_lst = [change_singns(params,signs) for signs in lst_signs]\n",
    "# params_lst = params_lst[1:]\n",
    "params_lst"
   ]
  },
  {
   "cell_type": "code",
   "execution_count": 42,
   "id": "2acbfb6e",
   "metadata": {},
   "outputs": [
    {
     "name": "stdout",
     "output_type": "stream",
     "text": [
      "[-0.7, -0.52, 0.52]\n",
      "init\n",
      "Time:      0,  Best Fitness:    4376.264893,  Best Pos:    3.6946,  31.9217 ...\n",
      "Time:    100,  Best Fitness:       2.011841,  Best Pos:   -0.0438,   0.6405 ...\n",
      "Time:    200,  Best Fitness:       0.081121,  Best Pos:   -0.0576,  -0.0748 ...\n",
      "Time:    300,  Best Fitness:       0.081121,  Best Pos:   -0.0576,  -0.0748 ...\n",
      "Time:    400,  Best Fitness:       0.024855,  Best Pos:    0.0513,  -0.0448 ...\n",
      "Time:    500,  Best Fitness:       0.024855,  Best Pos:    0.0513,  -0.0448 ...\n",
      "Time:    600,  Best Fitness:       0.024855,  Best Pos:    0.0513,  -0.0448 ...\n",
      "Time:    700,  Best Fitness:       0.024855,  Best Pos:    0.0513,  -0.0448 ...\n",
      "Time:    800,  Best Fitness:       0.024855,  Best Pos:    0.0513,  -0.0448 ...\n",
      "Time:    900,  Best Fitness:       0.024855,  Best Pos:    0.0513,  -0.0448 ...\n",
      "Time:   1000,  Best Fitness:       0.024855,  Best Pos:    0.0513,  -0.0448 ...\n",
      "[-0.7, -0.52, 0.52]\n",
      "init\n",
      "Time:      0,  Best Fitness:    2839.033737,  Best Pos:   12.6182,   1.2246 ...\n",
      "Time:    100,  Best Fitness:      18.912224,  Best Pos:   -1.5287,  -1.4054 ...\n",
      "Time:    200,  Best Fitness:       0.052061,  Best Pos:   -0.1160,  -0.1058 ...\n",
      "Time:    300,  Best Fitness:       0.052061,  Best Pos:   -0.1160,  -0.1058 ...\n",
      "Time:    400,  Best Fitness:       0.046470,  Best Pos:    0.0083,   0.1223 ...\n",
      "Time:    500,  Best Fitness:       0.045851,  Best Pos:   -0.0523,  -0.0939 ...\n",
      "Time:    600,  Best Fitness:       0.045851,  Best Pos:   -0.0523,  -0.0939 ...\n",
      "Time:    700,  Best Fitness:       0.045851,  Best Pos:   -0.0523,  -0.0939 ...\n",
      "Time:    800,  Best Fitness:       0.040092,  Best Pos:   -0.0539,  -0.1177 ...\n",
      "Time:    900,  Best Fitness:       0.040092,  Best Pos:   -0.0539,  -0.1177 ...\n",
      "Time:   1000,  Best Fitness:       0.040092,  Best Pos:   -0.0539,  -0.1177 ...\n",
      "[-0.7, 0.52, 0.52]\n",
      "init\n",
      "Time:      0,  Best Fitness:    1212.402950,  Best Pos:   25.8140,   0.7720 ...\n",
      "Time:    100,  Best Fitness:      51.619519,  Best Pos:    3.3805,  -1.0781 ...\n",
      "Time:    200,  Best Fitness:       4.136829,  Best Pos:   -0.3936,  -0.4307 ...\n",
      "Time:    300,  Best Fitness:       0.081001,  Best Pos:   -0.1458,   0.0467 ...\n",
      "Time:    400,  Best Fitness:       0.037186,  Best Pos:   -0.0251,   0.0036 ...\n",
      "Time:    500,  Best Fitness:       0.037186,  Best Pos:   -0.0251,   0.0036 ...\n",
      "Time:    600,  Best Fitness:       0.037186,  Best Pos:   -0.0251,   0.0036 ...\n",
      "Time:    700,  Best Fitness:       0.037186,  Best Pos:   -0.0251,   0.0036 ...\n",
      "Time:    800,  Best Fitness:       0.037186,  Best Pos:   -0.0251,   0.0036 ...\n",
      "Time:    900,  Best Fitness:       0.037186,  Best Pos:   -0.0251,   0.0036 ...\n",
      "Time:   1000,  Best Fitness:       0.037186,  Best Pos:   -0.0251,   0.0036 ...\n",
      "[-0.7, 0.52, 0.52]\n",
      "init\n",
      "Time:      0,  Best Fitness:    3539.281637,  Best Pos:   34.2547, -19.0276 ...\n",
      "Time:    100,  Best Fitness:      49.955591,  Best Pos:    0.9253,  -1.4613 ...\n",
      "Time:    200,  Best Fitness:       7.909525,  Best Pos:    1.0264,  -0.8564 ...\n",
      "Time:    300,  Best Fitness:       0.220783,  Best Pos:    0.1478,  -0.1590 ...\n",
      "Time:    400,  Best Fitness:       0.093998,  Best Pos:    0.0542,  -0.1134 ...\n",
      "Time:    500,  Best Fitness:       0.093998,  Best Pos:    0.0542,  -0.1134 ...\n",
      "Time:    600,  Best Fitness:       0.093998,  Best Pos:    0.0542,  -0.1134 ...\n",
      "Time:    700,  Best Fitness:       0.093998,  Best Pos:    0.0542,  -0.1134 ...\n",
      "Time:    800,  Best Fitness:       0.093998,  Best Pos:    0.0542,  -0.1134 ...\n",
      "Time:    900,  Best Fitness:       0.093998,  Best Pos:    0.0542,  -0.1134 ...\n",
      "Time:   1000,  Best Fitness:       0.074122,  Best Pos:    0.0002,  -0.1866 ...\n",
      "[0.7, -0.52, 0.52]\n",
      "init\n",
      "Time:      0,  Best Fitness:    2358.243574,  Best Pos:  -12.0695,  -7.2868 ...\n",
      "Time:    100,  Best Fitness:       0.172349,  Best Pos:    0.0787,  -0.1018 ...\n",
      "Time:    200,  Best Fitness:       0.040633,  Best Pos:    0.0119,  -0.0468 ...\n",
      "Time:    300,  Best Fitness:       0.040633,  Best Pos:    0.0119,  -0.0468 ...\n",
      "Time:    400,  Best Fitness:       0.040633,  Best Pos:    0.0119,  -0.0468 ...\n",
      "Time:    500,  Best Fitness:       0.040633,  Best Pos:    0.0119,  -0.0468 ...\n",
      "Time:    600,  Best Fitness:       0.040633,  Best Pos:    0.0119,  -0.0468 ...\n",
      "Time:    700,  Best Fitness:       0.040633,  Best Pos:    0.0119,  -0.0468 ...\n",
      "Time:    800,  Best Fitness:       0.040633,  Best Pos:    0.0119,  -0.0468 ...\n",
      "Time:    900,  Best Fitness:       0.040633,  Best Pos:    0.0119,  -0.0468 ...\n",
      "Time:   1000,  Best Fitness:       0.040633,  Best Pos:    0.0119,  -0.0468 ...\n",
      "[0.7, -0.52, 0.52]\n",
      "init\n",
      "Time:      0,  Best Fitness:    6181.447555,  Best Pos:  -63.4939,  -4.1454 ...\n",
      "Time:    100,  Best Fitness:      14.005430,  Best Pos:   -2.1633,  -1.2851 ...\n",
      "Time:    200,  Best Fitness:       0.073423,  Best Pos:    0.0201,  -0.0940 ...\n",
      "Time:    300,  Best Fitness:       0.029311,  Best Pos:   -0.0874,  -0.1035 ...\n",
      "Time:    400,  Best Fitness:       0.023415,  Best Pos:   -0.0189,  -0.0721 ...\n",
      "Time:    500,  Best Fitness:       0.023415,  Best Pos:   -0.0189,  -0.0721 ...\n",
      "Time:    600,  Best Fitness:       0.023415,  Best Pos:   -0.0189,  -0.0721 ...\n",
      "Time:    700,  Best Fitness:       0.023415,  Best Pos:   -0.0189,  -0.0721 ...\n",
      "Time:    800,  Best Fitness:       0.023415,  Best Pos:   -0.0189,  -0.0721 ...\n",
      "Time:    900,  Best Fitness:       0.023415,  Best Pos:   -0.0189,  -0.0721 ...\n",
      "Time:   1000,  Best Fitness:       0.023415,  Best Pos:   -0.0189,  -0.0721 ...\n",
      "[0.7, 0.52, 0.52]\n",
      "init\n",
      "Time:      0,  Best Fitness:    6241.902563,  Best Pos:   25.3838,  45.4827 ...\n",
      "Time:    100,  Best Fitness:      74.204112,  Best Pos:    4.7113,   2.5386 ...\n",
      "Time:    200,  Best Fitness:      15.967543,  Best Pos:    2.0688,   0.7171 ...\n",
      "Time:    300,  Best Fitness:       0.385489,  Best Pos:    0.1803,   0.1588 ...\n",
      "Time:    400,  Best Fitness:       0.037131,  Best Pos:   -0.0140,   0.0162 ...\n",
      "Time:    500,  Best Fitness:       0.037131,  Best Pos:   -0.0140,   0.0162 ...\n",
      "Time:    600,  Best Fitness:       0.037131,  Best Pos:   -0.0140,   0.0162 ...\n",
      "Time:    700,  Best Fitness:       0.037131,  Best Pos:   -0.0140,   0.0162 ...\n",
      "Time:    800,  Best Fitness:       0.037131,  Best Pos:   -0.0140,   0.0162 ...\n",
      "Time:    900,  Best Fitness:       0.037131,  Best Pos:   -0.0140,   0.0162 ...\n",
      "Time:   1000,  Best Fitness:       0.037131,  Best Pos:   -0.0140,   0.0162 ...\n",
      "[0.7, 0.52, 0.52]\n",
      "init\n",
      "Time:      0,  Best Fitness:    1653.126401,  Best Pos:   -9.3763,  14.5582 ...\n",
      "Time:    100,  Best Fitness:       0.630723,  Best Pos:    0.3932,   0.4292 ...\n",
      "Time:    200,  Best Fitness:       0.071331,  Best Pos:    0.1514,   0.1560 ...\n",
      "Time:    300,  Best Fitness:       0.030588,  Best Pos:    0.0188,   0.0725 ...\n",
      "Time:    400,  Best Fitness:       0.030588,  Best Pos:    0.0188,   0.0725 ...\n",
      "Time:    500,  Best Fitness:       0.030588,  Best Pos:    0.0188,   0.0725 ...\n",
      "Time:    600,  Best Fitness:       0.030588,  Best Pos:    0.0188,   0.0725 ...\n",
      "Time:    700,  Best Fitness:       0.030588,  Best Pos:    0.0188,   0.0725 ...\n",
      "Time:    800,  Best Fitness:       0.030588,  Best Pos:    0.0188,   0.0725 ...\n",
      "Time:    900,  Best Fitness:       0.030588,  Best Pos:    0.0188,   0.0725 ...\n",
      "Time:   1000,  Best Fitness:       0.030588,  Best Pos:    0.0188,   0.0725 ...\n"
     ]
    }
   ],
   "source": [
    "def automator_signs(param_lst):\n",
    "    for params in param_lst:\n",
    "        print(params)\n",
    "        weight = params[0]\n",
    "        alpha1 = params[1]\n",
    "        alpha2 = params[2]\n",
    "        variable = PSO(dim=6, w=weight, a1=alpha1, a2=alpha2, population_size=21, time_steps=1001, search_range=100).run()\n",
    "#     print(variable)\n",
    "    \n",
    "automator_signs(params_lst)"
   ]
  },
  {
   "cell_type": "code",
   "execution_count": null,
   "id": "aed64091",
   "metadata": {},
   "outputs": [],
   "source": []
  },
  {
   "cell_type": "code",
   "execution_count": null,
   "id": "ea468973",
   "metadata": {},
   "outputs": [],
   "source": []
  }
 ],
 "metadata": {
  "kernelspec": {
   "display_name": "Python 3",
   "language": "python",
   "name": "python3"
  },
  "language_info": {
   "codemirror_mode": {
    "name": "ipython",
    "version": 3
   },
   "file_extension": ".py",
   "mimetype": "text/x-python",
   "name": "python",
   "nbconvert_exporter": "python",
   "pygments_lexer": "ipython3",
   "version": "3.7.10"
  }
 },
 "nbformat": 4,
 "nbformat_minor": 5
}
